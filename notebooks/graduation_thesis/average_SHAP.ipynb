{
 "cells": [
  {
   "cell_type": "code",
   "execution_count": 6,
   "id": "18cd413f-63e4-476f-9773-c70838cf3c0c",
   "metadata": {},
   "outputs": [
    {
     "name": "stdout",
     "output_type": "stream",
     "text": [
      "(5069, 1234)\n",
      "EVI_Podding       2.877123e-02\n",
      "EVI_Late Jul.     1.750540e-02\n",
      "Latitude          1.496736e-02\n",
      "GCVI_Podding      1.460347e-02\n",
      "LSWI_Late Aug.    7.201199e-03\n",
      "                      ...     \n",
      "WI                2.501741e-06\n",
      "KS                9.981337e-07\n",
      "MN                7.106701e-07\n",
      "ND                0.000000e+00\n",
      "OH                0.000000e+00\n",
      "Length: 1234, dtype: float64\n"
     ]
    }
   ],
   "source": [
    "import os\n",
    "import pandas as pd\n",
    "\n",
    "# 作物类型\n",
    "croptype = 'soybean'\n",
    "# 文件夹路径\n",
    "folder_path = 'D:/毕业大论文/结果/SHAP值结果/'\n",
    "\n",
    "# 生成文件名格式的字符串模板\n",
    "filename_template = croptype+'{}_XGBoost_expGDT_N10_shap_values_test.csv'\n",
    "# 生成包含所有文件名的列表\n",
    "filenames = [filename_template.format(year) for year in range(2014, 2022)]\n",
    "\n",
    "# 用于存储所有CSV文件数据的列表\n",
    "dataframes = []\n",
    "\n",
    "# 遍历文件夹中的所有符合要求的CSV文件\n",
    "for filename in filenames:\n",
    "        file_path = os.path.join(folder_path, filename)\n",
    "        df = pd.read_csv(file_path)\n",
    "        # 将数据框添加到列表中\n",
    "        dataframes.append(df)\n",
    "\n",
    "# 将所有数据框连接在一起\n",
    "merged_df = pd.concat(dataframes)\n",
    "print(merged_df.shape)\n",
    "# 计算每列的平均值\n",
    "mean_values = merged_df.abs().mean().sort_values(ascending=False)\n",
    "\n",
    "mean_values.to_csv(folder_path+croptype+'average_SHAP.csv')\n",
    "print(mean_values)\n"
   ]
  },
  {
   "cell_type": "code",
   "execution_count": 8,
   "id": "548e8790-ab18-41c4-86ee-d92fbd3a2f89",
   "metadata": {},
   "outputs": [
    {
     "name": "stdout",
     "output_type": "stream",
     "text": [
      "(5131, 1266)\n",
      "LSWI_Dough       2.245568e-02\n",
      "EVI_Dough        2.234374e-02\n",
      "EVI_Late Jul.    1.986353e-02\n",
      "Nir_Dough        1.035927e-02\n",
      "pH               7.268572e-03\n",
      "                     ...     \n",
      "OH               1.338708e-05\n",
      "IA               1.010955e-05\n",
      "WI               7.222052e-06\n",
      "MN               3.330590e-06\n",
      "MI               3.383063e-07\n",
      "Length: 1266, dtype: float64\n"
     ]
    }
   ],
   "source": [
    "# 作物类型\n",
    "croptype = 'maize'\n",
    "# 文件夹路径\n",
    "folder_path = 'D:/毕业大论文/结果/SHAP值结果/'\n",
    "\n",
    "# 生成文件名格式的字符串模板\n",
    "filename_template = croptype+'{}_XGBoost_expGDT_N10_shap_values_test.csv'\n",
    "# 生成包含所有文件名的列表\n",
    "filenames = [filename_template.format(year) for year in range(2014, 2022)]\n",
    "\n",
    "# 用于存储所有CSV文件数据的列表\n",
    "dataframes = []\n",
    "\n",
    "# 遍历文件夹中的所有符合要求的CSV文件\n",
    "for filename in filenames:\n",
    "        file_path = os.path.join(folder_path, filename)\n",
    "        df = pd.read_csv(file_path)\n",
    "        # 将数据框添加到列表中\n",
    "        dataframes.append(df)\n",
    "\n",
    "# 将所有数据框连接在一起\n",
    "merged_df = pd.concat(dataframes)\n",
    "print(merged_df.shape)\n",
    "# 计算每列的平均值\n",
    "mean_values = merged_df.abs().mean().sort_values(ascending=False)\n",
    "\n",
    "mean_values.to_csv(folder_path+croptype+'average_SHAP.csv')\n",
    "print(mean_values)"
   ]
  }
 ],
 "metadata": {
  "kernelspec": {
   "display_name": "base",
   "language": "python",
   "name": "base"
  },
  "language_info": {
   "codemirror_mode": {
    "name": "ipython",
    "version": 3
   },
   "file_extension": ".py",
   "mimetype": "text/x-python",
   "name": "python",
   "nbconvert_exporter": "python",
   "pygments_lexer": "ipython3",
   "version": "3.8.8"
  }
 },
 "nbformat": 4,
 "nbformat_minor": 5
}
