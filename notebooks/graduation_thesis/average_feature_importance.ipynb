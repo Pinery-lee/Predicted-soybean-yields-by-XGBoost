{
 "cells": [
  {
   "cell_type": "code",
   "execution_count": 1,
   "id": "0fee67e5-6378-4ec7-90e8-14dd5dff6b12",
   "metadata": {},
   "outputs": [],
   "source": [
    "import os\n",
    "import pandas as pd"
   ]
  },
  {
   "cell_type": "markdown",
   "id": "cf12c483-140a-4fd3-9c73-c13cc04d1187",
   "metadata": {},
   "source": [
    "### soybean"
   ]
  },
  {
   "cell_type": "code",
   "execution_count": 5,
   "id": "a7f9ef47-9f63-4bc7-91e6-4d54a3a42d30",
   "metadata": {},
   "outputs": [],
   "source": [
    "import os\n",
    "import pandas as pd\n",
    "\n",
    "filedir = \"D:/毕业大论文/结果/SHAP值结果/soybean/\"\n",
    "\n",
    "# Create an empty dataframe with the desired column names\n",
    "df = pd.DataFrame(columns=['feature', 'weight', 'gain', 'cover', 'total_gain'])\n",
    "\n",
    "# Loop through all csv files in the directory and concatenate them into a single dataframe\n",
    "for file in os.listdir(filedir):\n",
    "    if file.endswith(\".csv\"):\n",
    "        filepath = os.path.join(filedir, file)\n",
    "        df2 = pd.read_csv(filepath, engine='python')\n",
    "        df2 = df2.rename(columns={'Unnamed: 0': 'feature'})\n",
    "        df = pd.concat([df, df2], axis=0, ignore_index=True)\n",
    "\n",
    "# Group the dataframe by feature and calculate the mean of each feature importance metric\n",
    "df = df.groupby('feature').mean().reset_index()\n",
    "\n",
    "# Sort the dataframe by the \"gain\" column in descending order\n",
    "df = df.sort_values('gain', ascending=False)\n",
    "\n",
    "# Export the dataframe to a csv file\n",
    "output_filepath = os.path.join(filedir, \"average_feature_importance.csv\")\n",
    "df.to_csv(output_filepath, index=False)\n"
   ]
  },
  {
   "cell_type": "markdown",
   "id": "ce328f48-fc2b-4e29-bb63-f9ada2481923",
   "metadata": {},
   "source": [
    "### maize"
   ]
  },
  {
   "cell_type": "code",
   "execution_count": 4,
   "id": "a2b30375-ebde-430a-a75e-8541f04866ae",
   "metadata": {},
   "outputs": [],
   "source": [
    "import os\n",
    "import pandas as pd\n",
    "\n",
    "filedir = \"D:/毕业大论文/结果/SHAP值结果/maize/\"\n",
    "\n",
    "# Create an empty dataframe with the desired column names\n",
    "df = pd.DataFrame(columns=['feature', 'weight', 'gain', 'cover', 'total_gain'])\n",
    "\n",
    "# Loop through all csv files in the directory and concatenate them into a single dataframe\n",
    "for file in os.listdir(filedir):\n",
    "    if file.endswith(\".csv\"):\n",
    "        filepath = os.path.join(filedir, file)\n",
    "        df2 = pd.read_csv(filepath, engine='python')\n",
    "        df2 = df2.rename(columns={'Unnamed: 0': 'feature'})\n",
    "        df = pd.concat([df, df2], axis=0, ignore_index=True)\n",
    "\n",
    "# Group the dataframe by feature and calculate the mean of each feature importance metric\n",
    "df = df.groupby('feature').mean().reset_index()\n",
    "\n",
    "# Sort the dataframe by the \"gain\" column in descending order\n",
    "df = df.sort_values('gain', ascending=False)\n",
    "\n",
    "# Export the dataframe to a csv file\n",
    "output_filepath = os.path.join(filedir, \"average_feature_importance.csv\")\n",
    "df.to_csv(output_filepath, index=False)"
   ]
  },
  {
   "cell_type": "code",
   "execution_count": 14,
   "id": "069a5424-b94f-4cb6-83c2-9bec728e5cd9",
   "metadata": {},
   "outputs": [
    {
     "name": "stdout",
     "output_type": "stream",
     "text": [
      "feature      Unnamed: 0  weight      gain        cover  total_gain  \\\n",
      "0         NDVI_Mid Mar.    25.0  0.007443   173.789749    0.186075   \n",
      "1          EVI_Mid Mar.    44.0  0.019400   621.176086    0.853622   \n",
      "2         LSWI_Mid Mar.    61.0  0.086419  1250.513672    5.271530   \n",
      "3         GCVI_Mid Mar.    27.0  0.004798   487.439514    0.129551   \n",
      "4          RVI_Mid Mar.     7.0  0.002325   389.721985    0.016276   \n",
      "...                 ...     ...       ...          ...         ...   \n",
      "1222     State_illinois     3.0  0.091213  1133.736694    0.273639   \n",
      "1223      State_indiana     3.0  0.018047   550.828674    0.054142   \n",
      "1224     State_michigan     1.0  0.116814   514.198364    0.116814   \n",
      "1225     State_missouri     3.0  0.165233  1131.199829    0.495698   \n",
      "1226     State_nebraska     4.0  0.341118  1897.881714    1.364471   \n",
      "\n",
      "feature   total_cover  \n",
      "0         4344.743652  \n",
      "1        27331.748047  \n",
      "2        76281.335938  \n",
      "3        13160.867188  \n",
      "4         2728.053955  \n",
      "...               ...  \n",
      "1222      3401.209961  \n",
      "1223      1652.486084  \n",
      "1224       514.198364  \n",
      "1225      3393.599365  \n",
      "1226      7591.526855  \n",
      "\n",
      "[1227 rows x 6 columns]\n"
     ]
    }
   ],
   "source": [
    "# 大豆特征重要性\n",
    "filedir = \"D:/毕业大论文/结果/SHAP值结果/soybean/\"\n",
    "# df1 = pd.DataFrame([],columns=['Unnamed: 0','weight','gain','cover','total_gain'])\n",
    "\n",
    "# for _, _, files in os.walk(filedir):\n",
    "#     for file in files:\n",
    "#         # 只处理csv文件\n",
    "#         if file.endswith(\".csv\"):\n",
    "#             df2 = pd.read_csv(os.path.join(filedir,file),engine='python')# engine='python'解决中文路径\n",
    "# #             df1 = pd.concat((df1,df2)).groupby('Unnamed: 0')['gain'].mean()\n",
    "#             # print(df1)\n",
    "df2 = pd.read_csv(os.path.join(filedir,'2021_XGBoost_expGDT_N10_特征重要性.csv'),engine='python')# engine='python'解决中文路径\n",
    "df2 = df2.rename(mapper = {'Unnamed: 0':'feature'})\n",
    "df2 = df2.rename_axis(columns ='feature')\n",
    "print(df2)\n",
    "df2.sort_values('gain',ascending=False).to_csv(os.path.join(filedir,\"average feature importance.csv\"))"
   ]
  },
  {
   "cell_type": "code",
   "execution_count": 28,
   "id": "addc93ea-cc3e-40f6-aa73-1a0e0aac9677",
   "metadata": {},
   "outputs": [],
   "source": [
    "# 玉米特征重要性\n",
    "filedir = \"D:/论文-产量趋势利用/结果/特征排名/maize/\"\n",
    "df1 = pd.DataFrame([],columns=['Unnamed: 0','weight','gain','cover','total_gain'])\n",
    "\n",
    "for _, _, files in os.walk(filedir):\n",
    "    for file in files:\n",
    "        # 只处理csv文件\n",
    "        if file.endswith(\".csv\"):\n",
    "            df2 = pd.read_csv(os.path.join(filedir,file),engine='python')# engine='python'解决中文路径\n",
    "            df1 = pd.concat((df1,df2)).groupby('Unnamed: 0')['gain'].mean()\n",
    "            # print(df1)\n",
    "df1.rename_axis(index ='feature',inplace=True)\n",
    "df1.sort_values(ascending=False).to_csv(os.path.join(filedir,\"average feature importance.csv\"))"
   ]
  },
  {
   "cell_type": "code",
   "execution_count": null,
   "id": "9b2fa0cd-5d4c-46c4-a412-b6cb1c482e7b",
   "metadata": {},
   "outputs": [],
   "source": []
  }
 ],
 "metadata": {
  "kernelspec": {
   "display_name": "base",
   "language": "python",
   "name": "base"
  },
  "language_info": {
   "codemirror_mode": {
    "name": "ipython",
    "version": 3
   },
   "file_extension": ".py",
   "mimetype": "text/x-python",
   "name": "python",
   "nbconvert_exporter": "python",
   "pygments_lexer": "ipython3",
   "version": "3.8.8"
  }
 },
 "nbformat": 4,
 "nbformat_minor": 5
}
