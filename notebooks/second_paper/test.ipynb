{
 "cells": [
  {
   "cell_type": "code",
   "execution_count": null,
   "id": "b1ed747c-b332-497d-abb5-36af331411ac",
   "metadata": {},
   "outputs": [],
   "source": [
    "import pandas as pd\n",
    "import numpy as np"
   ]
  },
  {
   "cell_type": "code",
   "execution_count": null,
   "id": "eb9aa169-55a8-415f-bf99-0c3501cfe027",
   "metadata": {},
   "outputs": [],
   "source": [
    "data = pd.DataFrame({'Year':[i for i in range(2012,2022)],\n",
    "                     'State':['a','b','c','a','b','c','a','c','v','a'],\n",
    "                     'sta_con':['a','a','a','a','a','a','a','b','a','a'],\n",
    "                     'yield(t/ha)':[1,2,3,3,5,6,7,8,8.5,10]\n",
    "                        })\n",
    "\n",
    "data"
   ]
  },
  {
   "cell_type": "code",
   "execution_count": null,
   "id": "9b7891cd-9b75-48ef-b846-156ea38bf9c5",
   "metadata": {},
   "outputs": [],
   "source": [
    "data = pd.read_csv('D:/论文-产量趋势利用/数据/input_soybean_exp.csv',engine='python',encoding=\"utf8\",nrows = 500)\n",
    "data[['Year','sta_con','Longitude','Latitude']]"
   ]
  },
  {
   "cell_type": "code",
   "execution_count": null,
   "id": "6474c7ef-38b6-4203-b111-f2770b2e5a79",
   "metadata": {},
   "outputs": [],
   "source": [
    "county = data.drop_duplicates(subset=['sta_con','Longitude','Latitude'])\n",
    "county"
   ]
  },
  {
   "cell_type": "code",
   "execution_count": null,
   "id": "53839d5d-107d-4159-8f12-9ce2c0a87d16",
   "metadata": {},
   "outputs": [],
   "source": [
    "from math import radians, cos, sin, asin, sqrt\n",
    "def dist(lat1, long1, lat2, long2):\n",
    "    \"\"\"\n",
    "    Replicating the same formula as mentioned in Wiki\n",
    "    \"\"\"\n",
    "    # convert decimal degrees to radians \n",
    "    lat1, long1, lat2, long2 = map(radians, [lat1, long1, lat2, long2])\n",
    "    # haversine formula \n",
    "    dlon = long2 - long1 \n",
    "    dlat = lat2 - lat1 \n",
    "    a = sin(dlat/2)**2 + cos(lat1) * cos(lat2) * sin(dlon/2)**2\n",
    "    c = 2 * asin(sqrt(a)) \n",
    "    # Radius of earth in kilometers is 6371\n",
    "    km = 6371* c\n",
    "    return km\n",
    "def find_nearest(lat, long, N):\n",
    "    distances = county.apply(\n",
    "        lambda row: dist(lat, long, row['Latitude'], row['Longitude']), \n",
    "        axis=1)\n",
    "    return list(county.loc[distances.nsmallest(n=N,keep = 'all').index, 'sta_con'])"
   ]
  },
  {
   "cell_type": "code",
   "execution_count": null,
   "id": "c2796b5e-6499-4931-a2bf-287e2d54ea04",
   "metadata": {},
   "outputs": [],
   "source": [
    "distances = county.apply(\n",
    "    lambda row: dist(40.174752, -88.905468, row['Latitude'], row['Longitude']), \n",
    "    axis=1)\n",
    "list(county.loc[distances.nsmallest(n=6,keep = 'all').index, 'sta_con'])"
   ]
  },
  {
   "cell_type": "code",
   "execution_count": null,
   "id": "80ea6d1e-f14e-48a9-84df-8d63dcdd0d21",
   "metadata": {},
   "outputs": [],
   "source": [
    "data['name'] = data.apply(\n",
    "    lambda row: find_nearest(row['Latitude'], row['Longitude'],5), \n",
    "    axis=1)\n",
    "# To check the data frame if it has a new column of hotel name (for each and every member's location in the list)\n",
    "data[['Year','sta_con','name','Longitude','Latitude']]"
   ]
  },
  {
   "cell_type": "code",
   "execution_count": null,
   "id": "c0a4cee4-11ff-43e5-b2aa-ab108f2dcc4c",
   "metadata": {},
   "outputs": [],
   "source": []
  },
  {
   "cell_type": "code",
   "execution_count": null,
   "id": "dc81ebce-3792-4af1-82cc-4896002e0498",
   "metadata": {},
   "outputs": [],
   "source": []
  },
  {
   "cell_type": "code",
   "execution_count": null,
   "id": "87f4652b-4457-4b6d-bd24-52841aa3eb93",
   "metadata": {},
   "outputs": [],
   "source": []
  },
  {
   "cell_type": "code",
   "execution_count": null,
   "id": "19f17635-36ee-4d45-9220-c5014e03f0da",
   "metadata": {},
   "outputs": [],
   "source": [
    "def average_yield_of_N_years(data,N):\n",
    "    for county in set(data['sta_con']):\n",
    "        for year in range(2014,2022):\n",
    "            yearlist = [i for i in range(year-N,year)]\n",
    "            data.loc[(data['Year']==year) & (data['sta_con']==county),'yield_N5_EXP2'] = data[(data['Year'].isin(yearlist)) & (data['sta_con']==county)]['yield(t/ha)'].mean()\n",
    "    data = data.fillna(data.groupby(['Year','State']).transform('mean'))\n",
    "    return data"
   ]
  },
  {
   "cell_type": "code",
   "execution_count": null,
   "id": "8744a5af-04d4-4afc-9b48-bdbb9d9c7327",
   "metadata": {},
   "outputs": [],
   "source": [
    "average_yield_of_N_years(data,2)[['Year','sta_con','yield(t/ha)','yield_N5_EXP2']]"
   ]
  },
  {
   "cell_type": "code",
   "execution_count": null,
   "id": "a412c48d-7999-408a-a47c-30908724acb1",
   "metadata": {},
   "outputs": [],
   "source": [
    "set(data['State'])"
   ]
  },
  {
   "cell_type": "code",
   "execution_count": null,
   "id": "7d33c526-7a64-4825-9cfc-6c76df06bba0",
   "metadata": {},
   "outputs": [],
   "source": [
    "# 分州去趋势\n",
    "test_year = [2020]\n",
    "N = 5\n",
    "trend_n = 10\n",
    "data_test = data[data['Year'].isin(test_year)]\n",
    "# tra-val set\n",
    "data_train_val = data[data['Year'].isin([i for i in range(test_year[0]-N,test_year[0])])]\n",
    "# split input and output\n",
    "y_train_val = data_train_val['yield(t/ha)']\n",
    "y_test = data_test['yield(t/ha)']\n",
    "# de-trend the yield using linear model\n",
    "yield_mean = data_train_val['yield(t/ha)'].mean()\n",
    "linear_m = linear_model.LinearRegression()\n",
    "#         if usehistoy:\n",
    "#             X99 = np.array(data1980['year']).reshape(-1,1)\n",
    "#             Y99 = np.array(data1980['yield(t/ha)']).reshape(-1,1)\n",
    "#         else:\n",
    "# X99 = np.array(data_train_val['Year']).reshape(-1,1)\n",
    "# Y99 = np.array(data_train_val['yield(t/ha)']).reshape(-1,1)\n",
    "\n",
    "\n",
    "count = 0\n",
    "data_train_valnew1 = pd.DataFrame([],columns = data_train_val.columns)\n",
    "data_testnew1 = pd.DataFrame([],columns = data_test.columns)\n",
    "for i in ['illinois']:\n",
    "    data_train_valnew = data_train_val[data_train_val['State'].isin([i])]\n",
    "    data_testnew = data_test[data_test['State'].isin([i])]\n",
    "    X99 = np.array(data_train_valnew['Year']).reshape(-1,1)\n",
    "    Y99 = np.array(data_train_valnew['yield(t/ha)']).reshape(-1,1)\n",
    "    #apply exec() method\n",
    "    print(data_train_valnew,data_testnew)\n",
    "    linear_m.fit(X99, Y99)\n",
    "    print('state:',i)\n",
    "    print('The foluma of de-trend the yield: yield_new = yield - {:.3f}×year + {:.3f} - ({:.3f})'\n",
    "          .format(linear_m.coef_[0,0],yield_mean,linear_m.intercept_[0]))\n",
    "    # de-trend data_train_val yield \n",
    "    data1 = data_train_valnew.copy()\n",
    "    data1.loc[:,'yield(t/ha)_fix'] = data_train_valnew['yield(t/ha)'] - linear_m.coef_[0] * data_train_valnew['Year'] + yield_mean - linear_m.intercept_\n",
    "    data1 = data1.drop(['yield(t/ha)'], axis = 1).rename({'yield(t/ha)_fix':'yield(t/ha)'}, axis=1)\n",
    "    data_train_valnew = data1\n",
    "    data_train_valnew1 = pd.concat([data_train_valnew1,data_train_valnew])\n",
    "    # de-trend data_test yield \n",
    "    data1 = data_testnew.copy()\n",
    "    data1.loc[:,'yield(t/ha)_fix'] = data_test['yield(t/ha)'] - linear_m.coef_[0] * data_test['Year'] + yield_mean - linear_m.intercept_\n",
    "\n",
    "    data1 = data1.drop(['yield(t/ha)'], axis = 1).rename({'yield(t/ha)_fix':'yield(t/ha)'}, axis=1)\n",
    "    data_testnew = data1\n",
    "    data_testnew1 = pd.concat([data_testnew1,data_testnew])\n",
    "data_test = data_testnew1\n",
    "data_train_val = data_train_valnew1\n",
    "y_train_val = data_train_val['yield(t/ha)']\n",
    "y_test = data_test['yield(t/ha)']\n",
    "X_train_val = data_train_val.drop(['sta_con','State','yield(t/ha)','Year','yield_N5_EXP2','yield_N5_EXP3','cluster','yield_N5_EXP4'], axis=1)\n",
    "X_test = data_test.drop(['sta_con','State','yield(t/ha)','Year','yield_N5_EXP2','yield_N5_EXP3','cluster','yield_N5_EXP4'], axis=1)\n",
    "X_train_val"
   ]
  },
  {
   "cell_type": "code",
   "execution_count": null,
   "id": "c81a893c-3da4-42f5-970b-14c267184baf",
   "metadata": {},
   "outputs": [],
   "source": [
    "for a,b in zip(['A'],range(3)):\n",
    "#     print(a,b)\n",
    "\n",
    "    #apply exec() method\n",
    "    exec(\"%s = None\" % (a))\n",
    "    print(eval(a))\n",
    "#     #print string\n",
    "#     print(\"output : \",A) \n"
   ]
  },
  {
   "cell_type": "code",
   "execution_count": null,
   "id": "cda23c26-9132-437d-a3ac-3458a87bd5d3",
   "metadata": {},
   "outputs": [],
   "source": [
    "eval('x')=1\n",
    "a"
   ]
  },
  {
   "cell_type": "code",
   "execution_count": null,
   "id": "d50a1cef-95dd-4021-a5dc-412cdf0aa383",
   "metadata": {},
   "outputs": [],
   "source": [
    "y_test"
   ]
  },
  {
   "cell_type": "code",
   "execution_count": null,
   "id": "37e64293-5b6f-4691-ad10-2f3689c9d34e",
   "metadata": {},
   "outputs": [],
   "source": [
    "import numpy as np\n",
    "from sklearn import linear_model\n",
    "# 近邻线性趋势产量\n",
    "def linear_yield_of_N_years(data,N_year = 30,N_nearest = 6):\n",
    "    data['name'] = data.apply(\n",
    "    lambda row: find_nearest(row['Latitude'], row['Longitude'],N_nearest), \n",
    "    axis=1)\n",
    "    for county in set(data['sta_con']):\n",
    "        for year in range(2004,2022):\n",
    "            yearlist = [i for i in range(year-N_year,year)]\n",
    "            countylist = data.loc[data['sta_con'] == county, 'name'].iloc[0]\n",
    "            print(county,year,countylist)\n",
    "            data1 = data[(data['Year'].isin(yearlist)) & (data['sta_con'].isin(countylist))][['Year','yield(t/ha)']]\n",
    "            print(data1)\n",
    "            if len(data1) == 1:\n",
    "                data.loc[(data['Year']==year) & (data['sta_con']==county),'yield_N'+str(N_year)+'_EXP3'] = data.loc[(data['Year'].isin(yearlist)) & (data['sta_con']==county),'yield(t/ha)'].mean()\n",
    "            elif len(data1) >1:\n",
    "                linear_m = linear_model.LinearRegression()\n",
    "                linear_m.fit(np.array(data1['Year']).reshape(-1,1),np.array(data1['yield(t/ha)']).reshape(-1,1))\n",
    "                slope = linear_m.coef_[0]\n",
    "                intercept = linear_m.intercept_\n",
    "                print(slope,intercept)\n",
    "                data.loc[(data['Year']==year) & (data['sta_con']==county),'yield_N'+str(N_year)+'_EXP3'] = slope*data.loc[(data['Year']==year) & (data['sta_con']==county),'Year']+intercept\n",
    "        data = data.fillna(data.groupby(['Year','State']).transform('mean'))\n",
    "    return data\n",
    "\n",
    "\n",
    "%time linear_yield_of_N_years(data,5)[['Year','sta_con','yield(t/ha)','yield_N5_EXP2','yield_N5_EXP3']]"
   ]
  },
  {
   "cell_type": "code",
   "execution_count": null,
   "id": "c6e06dbc-70d8-4a7b-95e5-f253f06675bf",
   "metadata": {},
   "outputs": [],
   "source": [
    "data.loc[data['sta_con'] == 'illinois_de witt', 'name'].iloc[0]\n"
   ]
  },
  {
   "cell_type": "code",
   "execution_count": null,
   "id": "52d1387f-f941-48cd-9b31-d2f3bc0046fa",
   "metadata": {},
   "outputs": [],
   "source": []
  },
  {
   "cell_type": "code",
   "execution_count": null,
   "id": "e53ec671-88f2-4022-8a85-9581d72b8380",
   "metadata": {},
   "outputs": [],
   "source": []
  },
  {
   "cell_type": "code",
   "execution_count": null,
   "id": "5d9de9dd-4462-417e-828a-a6bef3916de2",
   "metadata": {},
   "outputs": [],
   "source": [
    "import numpy as np\n",
    "from sklearn import linear_model\n",
    "# 线性趋势产量\n",
    "def linear_yield_of_N_years_nearest(data,N):\n",
    "    for county in set(data['sta_con']):\n",
    "        for year in range(2004,2022):\n",
    "            yearlist = [i for i in range(year-N,year)]\n",
    "            print(county,year)\n",
    "            data1 = data[(data['Year'].isin(yearlist)) & (data['sta_con']==county)][['Year','yield(t/ha)']]\n",
    "            print(data1)\n",
    "            if len(data1) == 1:\n",
    "                data.loc[(data['Year']==year) & (data['sta_con']==county),'yield_N'+str(N)+'_EXP3'] = data.loc[(data['Year'].isin(yearlist)) & (data['sta_con']==county),'yield(t/ha)'].mean()\n",
    "            elif len(data1) >1:\n",
    "                linear_m = linear_model.LinearRegression()\n",
    "                linear_m.fit(np.array(data1['Year']).reshape(-1,1),np.array(data1['yield(t/ha)']).reshape(-1,1))\n",
    "                slope = linear_m.coef_[0]\n",
    "                intercept = linear_m.intercept_\n",
    "                print(slope,intercept)\n",
    "                data.loc[(data['Year']==year) & (data['sta_con']==county),'yield_N'+str(N)+'_EXP3'] = slope*data.loc[(data['Year']==year) & (data['sta_con']==county),'Year']+intercept\n",
    "        data = data.fillna(data.groupby(['Year','State']).transform('mean'))\n",
    "    return data\n",
    "\n",
    "\n",
    "%time linear_yield_of_N_years(data,5)[['Year','sta_con','yield(t/ha)','yield_N5_EXP2','yield_N5_EXP3']]"
   ]
  },
  {
   "cell_type": "code",
   "execution_count": null,
   "id": "1c4eda59-cc0c-4034-9657-a039eb7eec84",
   "metadata": {},
   "outputs": [],
   "source": [
    "import math\n",
    "\n",
    "math.ceil(len(set(data['sta_con']))/3)"
   ]
  },
  {
   "cell_type": "code",
   "execution_count": null,
   "id": "5919b274-d36e-432e-8c4d-f0065986dd70",
   "metadata": {},
   "outputs": [],
   "source": [
    "# 带聚类的线性趋势产量\n",
    "# data = pd.DataFrame({'Year':[i for i in range(2012,2022)]+[2015],\n",
    "#                      'State':['a','b','c','a','b','c','a','c','v','a','a'],\n",
    "#                      'sta_con':['a','a','a','a','a','a','a','b','a','a','b'],\n",
    "#                      'yield(t/ha)':[1,2,3,3,5,6,7,8,8.5,10,10],\n",
    "#                      'cluster':[0,0,0,0,0,1,1,1,1,1,0]\n",
    "#                         })\n",
    "\n",
    "def linear_yield_of_N_years_cluster(data,N):\n",
    "    for cluster in set(data['cluster']):\n",
    "        for year in range(2004,2022):\n",
    "            yearlist = [i for i in range(year-N,year)]\n",
    "            print(cluster,year)\n",
    "            data1 = data[(data['Year'].isin(yearlist)) & (data['cluster']==cluster)][['Year','yield(t/ha)']]\n",
    "            print(data1)\n",
    "            if len(data1) == 1:\n",
    "                data.loc[(data['Year']==year) & (data['cluster']==cluster),'yield_N'+str(N)+'_EXP4'] = data.loc[(data['Year'].isin(yearlist)) & (data['cluster']==cluster),'yield(t/ha)'].mean()\n",
    "            elif len(data1) >1:\n",
    "                linear_m = linear_model.LinearRegression()\n",
    "                linear_m.fit(np.array(data1['Year']).reshape(-1,1),np.array(data1['yield(t/ha)']).reshape(-1,1))\n",
    "                slope = linear_m.coef_[0]\n",
    "                intercept = linear_m.intercept_\n",
    "                print(slope,intercept)\n",
    "                data.loc[(data['Year']==year) & (data['cluster']==cluster),'yield_N'+str(N)+'_EXP4'] = slope*data.loc[(data['Year']==year) & (data['cluster']==cluster),'Year']+intercept\n",
    "        data = data.fillna(data.groupby(['Year','State']).transform('mean'))\n",
    "    return data\n",
    "        \n",
    "%time linear_yield_of_N_years_cluster(data,5)[['Year','sta_con','cluster','yield(t/ha)','yield_N5_EXP2','yield_N5_EXP4']]"
   ]
  },
  {
   "cell_type": "code",
   "execution_count": null,
   "id": "c610a496-5dd5-447f-821b-71b557504e8f",
   "metadata": {},
   "outputs": [],
   "source": [
    "# 去趋势产量\n",
    "def detrend_yield_of_N_years(data,N):\n",
    "    for county in set(data['sta_con']):\n",
    "        for year in range(2004,2022):\n",
    "            yearlist = [i for i in range(year-N,year)]\n",
    "            print(county,year)\n",
    "            data1 = data[(data['Year'].isin(yearlist)) & (data['sta_con']==county)][['Year','yield(t/ha)']]\n",
    "            print(data1)\n",
    "            if len(data1) == 1:\n",
    "                data.loc[(data['Year']==year) & (data['sta_con']==county),'yield_N'+str(N)+'_EXP3'] = data.loc[(data['Year'].isin(yearlist)) & (data['sta_con']==county),'yield(t/ha)'].mean()\n",
    "            elif len(data1) >1:\n",
    "                linear_m = linear_model.LinearRegression()\n",
    "                linear_m.fit(np.array(data1['Year']).reshape(-1,1),np.array(data1['yield(t/ha)']).reshape(-1,1))\n",
    "                slope = linear_m.coef_[0]\n",
    "                intercept = linear_m.intercept_\n",
    "                print(slope,intercept)\n",
    "                data.loc[(data['Year']==year) & (data['sta_con']==county),'yield_N'+str(N)+'_EXP3'] = slope*data.loc[(data['Year']==year) & (data['sta_con']==county),'Year']+intercept\n",
    "        data = data.fillna(data.groupby(['Year','State']).transform('mean'))\n",
    "    return data\n",
    "\n",
    "\n",
    "%time linear_yield_of_N_years(data,5)[['Year','sta_con','yield(t/ha)','yield_N5_EXP2','yield_N5_EXP3']"
   ]
  },
  {
   "cell_type": "code",
   "execution_count": null,
   "id": "e140fa1e-9932-4fad-ab9d-fadbe94d1143",
   "metadata": {},
   "outputs": [],
   "source": [
    "data.at[(year, county), 'cluster']"
   ]
  }
 ],
 "metadata": {
  "kernelspec": {
   "display_name": "base",
   "language": "python",
   "name": "base"
  },
  "language_info": {
   "codemirror_mode": {
    "name": "ipython",
    "version": 3
   },
   "file_extension": ".py",
   "mimetype": "text/x-python",
   "name": "python",
   "nbconvert_exporter": "python",
   "pygments_lexer": "ipython3",
   "version": "3.8.8"
  }
 },
 "nbformat": 4,
 "nbformat_minor": 5
}
