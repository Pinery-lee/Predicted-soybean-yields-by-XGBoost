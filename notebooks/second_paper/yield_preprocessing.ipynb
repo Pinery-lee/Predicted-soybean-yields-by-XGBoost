{
 "cells": [
  {
   "cell_type": "code",
   "execution_count": 12,
   "id": "6fff769d-79df-4b39-bd91-bc2db72f1118",
   "metadata": {},
   "outputs": [],
   "source": [
    "import os\n",
    "import pandas as pd\n",
    "\n",
    "def yield_processing(input_dir, output_dir, cols = ['State','County','Year','Value'], crop = 'soybean', sta_con_dir = ''):\n",
    "    '''\n",
    "    It is a production processing function for the historical yield records \n",
    "    downloaded from the national agricultural statistics Service (NASS).\n",
    "    \n",
    "    Parameters\n",
    "    ----------\n",
    "    input_dir: string, the directory of raw yield records. e.g. 'C:/Data/raw/soybean/'.\n",
    "    output_dir: string, the directory where save processed production data.\n",
    "    cols: list, the columns that will be read. The default is ['State','County','Year','Value'].\n",
    "    crop: string. soybean or maize. The default is soybean.\n",
    "    sta_con_dir: string. The directory of the sta_con.csv file, which will be used in \n",
    "    QGIS and Google Earth Engine as shp file. Default is the current working directory got using os. getcwd().\n",
    "    \n",
    "    Returns\n",
    "    ----------\n",
    "    None\n",
    "    \n",
    "    Notes\n",
    "    ----------\n",
    "    1. The input directory only contains CSV files of yield.\n",
    "    '''\n",
    "    # Check if the output directory exists.\n",
    "    if not os.path.isdir(output_dir):\n",
    "        print('Please create a new outout directory.')\n",
    "        return\n",
    "        \n",
    "    count = 0\n",
    "    list_sta_con = []\n",
    "    print(\"Processing...\")\n",
    "    \n",
    "    for _, _, files in os.walk(input_dir):\n",
    "        for file in files:\n",
    "            # Process csv files only.\n",
    "            if file.endswith(\".csv\"):\n",
    "                count += 1\n",
    "                yield_data = pd.read_csv(os.path.join(input_dir,file),engine='python', usecols = cols)\n",
    "\n",
    "                # Make the names of states and counties lowercase.\n",
    "                yield_data.loc[:,\"State\"] = yield_data.loc[:,\"State\"].str.lower()\n",
    "                yield_data.loc[:,\"County\"] = yield_data.loc[:,\"County\"].str.lower()\n",
    "\n",
    "                # Concatenate state name and county name as sta_con.\n",
    "                yield_data.loc[:,\"sta_con\"] = yield_data.loc[:,\"State\"] + \"_\" + yield_data.loc[:,\"County\"]\n",
    "                \n",
    "                # Change the unit of yield records\n",
    "                if crop == 'soybean':\n",
    "                    yield_data.loc[:,\"yield(t/ha)\"] = yield_data.loc[:,\"Value\"]*0.0672 # Soybean\n",
    "                if crop == 'maize':\n",
    "                    yield_data.loc[:,\"yield(t/ha)\"] = yield_data.loc[:,\"Value\"]*0.062719012 # Maize\n",
    "                    \n",
    "                # Concatenate all csv files\n",
    "                if count == 1:\n",
    "                    df = yield_data\n",
    "                else:\n",
    "                    df = pd.concat([df,yield_data])\n",
    "                \n",
    "                # Get sta_con.csv\n",
    "                list_sta_con = list_sta_con + list(yield_data[\"sta_con\"])\n",
    "                set_sta_con = set(list_sta_con)\n",
    "        \n",
    "\n",
    "    # Save sta_con.csv\n",
    "    sta_con = pd.DataFrame()\n",
    "    sta_con[\"sta_con\"] = list(set_sta_con)\n",
    "    sta_con.to_csv(os.path.join(sta_con_dir, crop + \"_sta_con.csv\"),index=False)\n",
    "    \n",
    "    # Save new csv file of yield\n",
    "    print(len(df.index))\n",
    "    df.to_csv(os.path.join(output_dir, crop + '.csv'), index=False)\n",
    "    print(\"Processed!\")\n",
    "    return\n",
    "\n"
   ]
  },
  {
   "cell_type": "code",
   "execution_count": 13,
   "id": "3e94ef49-2373-422b-9d9c-361a478a48df",
   "metadata": {},
   "outputs": [
    {
     "name": "stdout",
     "output_type": "stream",
     "text": [
      "Processing...\n",
      "27401\n",
      "Processed!\n"
     ]
    }
   ],
   "source": [
    "# Yield of soybean from 2004 to 2021 preprocessing \n",
    "input_dir = \"D:/论文-产量趋势利用/数据/产量数据/raw/soybean/\"\n",
    "output_dir = \"D:/论文-产量趋势利用/数据/产量数据/processed/soybean/\"\n",
    "sta_con_dir = \"D:/论文-产量趋势利用/可视化/QGIS源文件/\"\n",
    "yield_processing(input_dir, output_dir, crop = 'soybean', sta_con_dir = sta_con_dir)"
   ]
  },
  {
   "cell_type": "code",
   "execution_count": 14,
   "id": "d2a1efcf-d25c-4bc2-b524-13e5af50fedb",
   "metadata": {},
   "outputs": [
    {
     "name": "stdout",
     "output_type": "stream",
     "text": [
      "Processing...\n",
      "31765\n",
      "Processed!\n"
     ]
    }
   ],
   "source": [
    "# Yield of maize from 2004 to 2021 preprocessing \n",
    "input_dir = \"D:/论文-产量趋势利用/数据/产量数据/raw/maize/\"\n",
    "output_dir = \"D:/论文-产量趋势利用/数据/产量数据/processed/maize/\"\n",
    "sta_con_dir = \"D:/论文-产量趋势利用/可视化/QGIS源文件/\"\n",
    "yield_processing(input_dir, output_dir, crop = 'maize', sta_con_dir = sta_con_dir)"
   ]
  },
  {
   "cell_type": "code",
   "execution_count": null,
   "id": "02e31ca2-c1bb-4756-8673-c4fab3b71cc0",
   "metadata": {},
   "outputs": [],
   "source": []
  }
 ],
 "metadata": {
  "kernelspec": {
   "display_name": "base",
   "language": "python",
   "name": "base"
  },
  "language_info": {
   "codemirror_mode": {
    "name": "ipython",
    "version": 3
   },
   "file_extension": ".py",
   "mimetype": "text/x-python",
   "name": "python",
   "nbconvert_exporter": "python",
   "pygments_lexer": "ipython3",
   "version": "3.8.8"
  }
 },
 "nbformat": 4,
 "nbformat_minor": 5
}
