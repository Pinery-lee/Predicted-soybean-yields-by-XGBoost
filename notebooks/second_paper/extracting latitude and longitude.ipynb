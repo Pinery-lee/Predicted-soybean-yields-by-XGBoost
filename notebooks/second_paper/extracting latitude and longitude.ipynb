{
 "cells": [
  {
   "cell_type": "code",
   "execution_count": 2,
   "id": "1965edae-8720-4c8b-aef7-f50d3d40ef60",
   "metadata": {},
   "outputs": [
    {
     "ename": "ModuleNotFoundError",
     "evalue": "No module named 'geopandas'",
     "output_type": "error",
     "traceback": [
      "\u001b[1;31m---------------------------------------------------------------------------\u001b[0m",
      "\u001b[1;31mModuleNotFoundError\u001b[0m                       Traceback (most recent call last)",
      "\u001b[1;32m<ipython-input-2-60781859e94f>\u001b[0m in \u001b[0;36m<module>\u001b[1;34m\u001b[0m\n\u001b[1;32m----> 1\u001b[1;33m \u001b[1;32mimport\u001b[0m \u001b[0mgeopandas\u001b[0m \u001b[1;32mas\u001b[0m \u001b[0mgpd\u001b[0m\u001b[1;33m\u001b[0m\u001b[1;33m\u001b[0m\u001b[0m\n\u001b[0m\u001b[0;32m      2\u001b[0m \u001b[1;32mimport\u001b[0m \u001b[0mpandas\u001b[0m \u001b[1;32mas\u001b[0m \u001b[0mpd\u001b[0m\u001b[1;33m\u001b[0m\u001b[1;33m\u001b[0m\u001b[0m\n\u001b[0;32m      3\u001b[0m \u001b[1;33m\u001b[0m\u001b[0m\n\u001b[0;32m      4\u001b[0m \u001b[1;32mdef\u001b[0m \u001b[0mget_long_latitude\u001b[0m\u001b[1;33m(\u001b[0m\u001b[0minputpath\u001b[0m\u001b[1;33m,\u001b[0m\u001b[0moutputpath\u001b[0m\u001b[1;33m)\u001b[0m\u001b[1;33m:\u001b[0m\u001b[1;33m\u001b[0m\u001b[1;33m\u001b[0m\u001b[0m\n\u001b[0;32m      5\u001b[0m     '''\n",
      "\u001b[1;31mModuleNotFoundError\u001b[0m: No module named 'geopandas'"
     ]
    }
   ],
   "source": [
    "import geopandas as gpd\n",
    "import pandas as pd\n",
    "\n",
    "def get_long_latitude(inputpath,outputpath):\n",
    "    '''\n",
    "    This is a function that calculates the longitude and latitude of county centrid.\n",
    "    \n",
    "    Parameters\n",
    "    ----------\n",
    "    inputpath: string. the shape file path\n",
    "    outputpath: string. the csv file path to save\n",
    "    \n",
    "    Returns\n",
    "    ----------\n",
    "    None\n",
    "    '''\n",
    "    print('processing...')\n",
    "    gdf = gpd.read_file(inputpath)\n",
    "    print(gdf.crs)\n",
    "    # centriod of county\n",
    "    gdf['centroid'] = gdf.centroid\n",
    "    lon_latitude = pd.DataFrame()\n",
    "    lon_latitude['sta_con'] = gdf['sta_con']\n",
    "    # langitude and latitude of county centorid\n",
    "    lon_latitude['Longitude'] = gdf['centroid'].x\n",
    "    lon_latitude['Latitude'] = gdf['centroid'].y\n",
    "    # save csv data\n",
    "    lon_latitude.to_csv(outputpath)\n",
    "    print('processed!')\n",
    "    return None\n"
   ]
  },
  {
   "cell_type": "code",
   "execution_count": null,
   "id": "d34f0924-f125-4144-99a9-19065bf6a71b",
   "metadata": {},
   "outputs": [],
   "source": [
    "inputpath = 'D:/论文-产量趋势利用/数据/区划数据/raw/美国县界_纯净.shp'\n",
    "outputpath = 'D:/论文-产量趋势利用/数据/区划数据/processed/lon_latitude.csv'\n",
    "get_long_latitude(inputpath,outputpath)"
   ]
  }
 ],
 "metadata": {
  "kernelspec": {
   "display_name": "base",
   "language": "python",
   "name": "base"
  },
  "language_info": {
   "codemirror_mode": {
    "name": "ipython",
    "version": 3
   },
   "file_extension": ".py",
   "mimetype": "text/x-python",
   "name": "python",
   "nbconvert_exporter": "python",
   "pygments_lexer": "ipython3",
   "version": "3.8.8"
  }
 },
 "nbformat": 4,
 "nbformat_minor": 5
}
