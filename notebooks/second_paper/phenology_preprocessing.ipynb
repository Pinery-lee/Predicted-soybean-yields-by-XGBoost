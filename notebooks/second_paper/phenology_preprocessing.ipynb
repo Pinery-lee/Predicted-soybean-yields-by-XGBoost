{
 "cells": [
  {
   "cell_type": "code",
   "execution_count": 24,
   "id": "b5c0627e-2e00-4b5c-b448-c1b74876cb13",
   "metadata": {},
   "outputs": [],
   "source": [
    "import os\n",
    "import pandas as pd\n",
    "\n",
    "def process_phenology(input_folderpath,output_folderpath,yearlist,filename = '物候总表.xlsx'):\n",
    "    '''\n",
    "    This is a function for processing weather data, including filling in missing values, resampling to daily and merging data.\n",
    "    \n",
    "    Parameters\n",
    "    ----------\n",
    "    input_folderpath：string.Input folder path\n",
    "    output_folderpath：string.Output folder path\n",
    "    yearlist：list.2003-2021\n",
    "    filename: string. Filename\n",
    "    \n",
    "    Returns\n",
    "    ----------\n",
    "    None\n",
    "    \n",
    "    '''\n",
    "    print('processing...')\n",
    "    for year in yearlist:\n",
    "        phenological_data = pd.read_excel(input_folderpath+str(year)+'年物候表.xlsx')\n",
    "        ph1 = phenological_data.replace(['(NA)','-'],[None,0])#处理NA数据为no data;把-变为0\n",
    "        # 去掉州名中的空格\n",
    "        ph2 = ph1.replace([ 'Illinois', 'Indiana ','Iowa ', 'Kansas', 'Michigan ', 'Minnesota ', 'Missouri ', 'Nebraska ', 'North Dakota', 'Ohio ', 'South Dakota', 'Wisconsin'],\n",
    "                          ['Illinois', 'Indiana','Iowa', 'Kansas', 'Michigan', 'Minnesota', 'Missouri', 'Nebraska', 'North Dakota', 'Ohio', 'South Dakota', 'Wisconsin'])\n",
    "        ph2['年份'] = year# 填充年份列\n",
    "        # 删掉空列\n",
    "        ph2.drop(list(ph2.filter(regex = 'Unnamed:')), axis = 1, inplace = True)\n",
    "        # 去掉无用行\n",
    "        ph3 = ph2[ph2['州'].isin(['Illinois', 'Indiana','Iowa', 'Kansas', 'Michigan', 'Minnesota', 'Missouri', 'Nebraska', 'North Dakota', 'Ohio', 'South Dakota', 'Wisconsin'])]\n",
    "        ph4 = ph3.T # 转置\n",
    "        ph5 = ph4.iloc[3:]# 暂时把年份、州、物候阶段去掉\n",
    "        ph5.index = pd.to_datetime(ph5.index)# 将索引变成时间格式\n",
    "        ph6 = ph5.resample('D').asfreq()# 向上采样：周低频变成日高频数据\n",
    "        ph7 = ph6.apply(pd.to_numeric)# convert all columns of DataFrame\n",
    "        ph8 = ph7.interpolate(method = 'polynomial',order=3)# 三次多项式插值\n",
    "        # 去掉最后一个零及之前的数据；去掉第一个100及之后的数据\n",
    "        ph8[ph8.lt(0)] = 0\n",
    "        for i in ph8.iloc[0].index:\n",
    "            # 最后一个零的位置\n",
    "            if ph8.index[ph8[i] == 0].tolist() != []:\n",
    "                loc = ph8.index[ph8[i] == 0].tolist()[-1]\n",
    "                ph8.loc[ph8.index[0]:loc,i] = None\n",
    "                # print(i)\n",
    "            if ph8.index[ph8[i] == 100].tolist() != []:\n",
    "                loc = ph8.index[ph8[i] == 100].tolist()[0]\n",
    "                ph8.loc[loc:ph8.index[-1],i] = None\n",
    "                # print(i)\n",
    "        # 高频日物候数据\n",
    "        ph9 = pd.concat([ph4.iloc[0:3],ph8])\n",
    "        # 25、50、75时间点数据\n",
    "        ph10 = pd.DataFrame(index=[25,50,75],columns=ph8.iloc[0].index)\n",
    "        for q in [25,50,75]:\n",
    "            for i in ph8.iloc[0].index:\n",
    "                loc = (ph8[i]-q).dropna().abs().argsort()[0]\n",
    "                ph_value = ph8[i].dropna().iloc[loc]\n",
    "                index = ph8[ph8[i] == ph8[i].dropna().iloc[loc]].index\n",
    "                ph10[i][q] = index[0]\n",
    "        ph11 = pd.concat([ph4.iloc[0:3],ph10])\n",
    "        ph12 = ph11.T\n",
    "\n",
    "        if year == 2003:\n",
    "            phenology_2003 = ph12\n",
    "        else:\n",
    "            phenology_2003 = pd.concat([phenology_2003,ph12])\n",
    "#     phenology_alldata = phenology_2003.drop(columns=['Unnamed: 0'])\n",
    "    phenology_2003.to_excel(output_folderpath + '2003-2021' + filename,index=False)\n",
    "    return 'processed'"
   ]
  },
  {
   "cell_type": "code",
   "execution_count": 25,
   "id": "5e26c0e6-0f22-473b-b624-60cb48c2e4d5",
   "metadata": {},
   "outputs": [
    {
     "name": "stdout",
     "output_type": "stream",
     "text": [
      "processing...\n"
     ]
    },
    {
     "data": {
      "text/plain": [
       "'processed'"
      ]
     },
     "execution_count": 25,
     "metadata": {},
     "output_type": "execute_result"
    }
   ],
   "source": [
    "# Soybean phenology data processing\n",
    "inputdir = 'D:/论文-产量趋势利用/数据/物候数据/raw/soybean/'\n",
    "outputdir = 'D:/论文-产量趋势利用/数据/物候数据/processed/soybean/'\n",
    "yearlist = [i for i in range(2003,2022)]\n",
    "process_phenology(inputdir, outputdir, yearlist)"
   ]
  },
  {
   "cell_type": "code",
   "execution_count": 26,
   "id": "c059bd2e-a1ec-44de-9a28-2e5ee9f48946",
   "metadata": {},
   "outputs": [
    {
     "name": "stdout",
     "output_type": "stream",
     "text": [
      "processing...\n"
     ]
    },
    {
     "data": {
      "text/plain": [
       "'processed'"
      ]
     },
     "execution_count": 26,
     "metadata": {},
     "output_type": "execute_result"
    }
   ],
   "source": [
    "# Maize phenology data processing\n",
    "inputdir = 'D:/论文-产量趋势利用/数据/物候数据/raw/maize/'\n",
    "outputdir = 'D:/论文-产量趋势利用/数据/物候数据/processed/maize/'\n",
    "yearlist = [i for i in range(2003,2022)]\n",
    "process_phenology(inputdir, outputdir, yearlist)"
   ]
  },
  {
   "cell_type": "code",
   "execution_count": null,
   "id": "61dc277d-bbf1-46e8-8f3d-b6cd613e8e3f",
   "metadata": {},
   "outputs": [],
   "source": []
  }
 ],
 "metadata": {
  "kernelspec": {
   "display_name": "base",
   "language": "python",
   "name": "base"
  },
  "language_info": {
   "codemirror_mode": {
    "name": "ipython",
    "version": 3
   },
   "file_extension": ".py",
   "mimetype": "text/x-python",
   "name": "python",
   "nbconvert_exporter": "python",
   "pygments_lexer": "ipython3",
   "version": "3.8.8"
  }
 },
 "nbformat": 4,
 "nbformat_minor": 5
}
