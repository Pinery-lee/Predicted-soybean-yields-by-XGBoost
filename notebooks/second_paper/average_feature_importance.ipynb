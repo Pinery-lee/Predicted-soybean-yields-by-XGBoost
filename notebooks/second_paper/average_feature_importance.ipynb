{
 "cells": [
  {
   "cell_type": "code",
   "execution_count": 2,
   "id": "0fee67e5-6378-4ec7-90e8-14dd5dff6b12",
   "metadata": {},
   "outputs": [],
   "source": [
    "import os\n",
    "import pandas as pd"
   ]
  },
  {
   "cell_type": "code",
   "execution_count": 27,
   "id": "069a5424-b94f-4cb6-83c2-9bec728e5cd9",
   "metadata": {},
   "outputs": [],
   "source": [
    "# 大豆特征重要性\n",
    "filedir = \"D:/论文-产量趋势利用/结果/特征排名/soybean/\"\n",
    "df1 = pd.DataFrame([],columns=['Unnamed: 0','weight','gain','cover','total_gain'])\n",
    "\n",
    "for _, _, files in os.walk(filedir):\n",
    "    for file in files:\n",
    "        # 只处理csv文件\n",
    "        if file.endswith(\".csv\"):\n",
    "            df2 = pd.read_csv(os.path.join(filedir,file),engine='python')# engine='python'解决中文路径\n",
    "            df1 = pd.concat((df1,df2)).groupby('Unnamed: 0')['gain'].mean()\n",
    "            # print(df1)\n",
    "df1.rename_axis(index ='feature',inplace=True)\n",
    "df1.sort_values(ascending=False).to_csv(os.path.join(filedir,\"average feature importance.csv\"))"
   ]
  },
  {
   "cell_type": "code",
   "execution_count": 28,
   "id": "addc93ea-cc3e-40f6-aa73-1a0e0aac9677",
   "metadata": {},
   "outputs": [],
   "source": [
    "# 玉米特征重要性\n",
    "filedir = \"D:/论文-产量趋势利用/结果/特征排名/maize/\"\n",
    "df1 = pd.DataFrame([],columns=['Unnamed: 0','weight','gain','cover','total_gain'])\n",
    "\n",
    "for _, _, files in os.walk(filedir):\n",
    "    for file in files:\n",
    "        # 只处理csv文件\n",
    "        if file.endswith(\".csv\"):\n",
    "            df2 = pd.read_csv(os.path.join(filedir,file),engine='python')# engine='python'解决中文路径\n",
    "            df1 = pd.concat((df1,df2)).groupby('Unnamed: 0')['gain'].mean()\n",
    "            # print(df1)\n",
    "df1.rename_axis(index ='feature',inplace=True)\n",
    "df1.sort_values(ascending=False).to_csv(os.path.join(filedir,\"average feature importance.csv\"))"
   ]
  },
  {
   "cell_type": "code",
   "execution_count": null,
   "id": "9b2fa0cd-5d4c-46c4-a412-b6cb1c482e7b",
   "metadata": {},
   "outputs": [],
   "source": []
  }
 ],
 "metadata": {
  "kernelspec": {
   "display_name": "base",
   "language": "python",
   "name": "base"
  },
  "language_info": {
   "codemirror_mode": {
    "name": "ipython",
    "version": 3
   },
   "file_extension": ".py",
   "mimetype": "text/x-python",
   "name": "python",
   "nbconvert_exporter": "python",
   "pygments_lexer": "ipython3",
   "version": "3.8.8"
  }
 },
 "nbformat": 4,
 "nbformat_minor": 5
}
